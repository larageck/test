{
 "cells": [
  {
   "cell_type": "markdown",
   "id": "18956576-6f5f-435a-9e22-349b22bd2385",
   "metadata": {},
   "source": [
    "Q1. Write a Python program (def function) to find the sum of all even numbers in an any given range, but exclude any numbers divisible by 5.\n",
    "Test your function for numbers in a range 1 to 200, and print the following sentence using string and variables. \"The sum of even numbers within the range  1  and  200 , excluding multiples of 5, is: ... (your result)\""
   ]
  },
  {
   "cell_type": "code",
   "execution_count": 1,
   "id": "abac7607-93aa-47dc-ad56-b8221c944d74",
   "metadata": {
    "tags": []
   },
   "outputs": [],
   "source": [
    "import numpy as np"
   ]
  },
  {
   "cell_type": "code",
   "execution_count": 2,
   "id": "b555a30b-fabe-49ee-b5b8-3f2e61f83a1e",
   "metadata": {
    "tags": []
   },
   "outputs": [],
   "source": [
    "import pandas as pd\n"
   ]
  },
  {
   "cell_type": "code",
   "execution_count": 3,
   "id": "b780862e-ca43-432d-aa56-43b314a2e007",
   "metadata": {
    "tags": []
   },
   "outputs": [],
   "source": [
    "import matplotlib.pyplot as plt"
   ]
  },
  {
   "cell_type": "code",
   "execution_count": null,
   "id": "9e149bab-a064-4891-aa92-577ae886b5a2",
   "metadata": {},
   "outputs": [],
   "source": []
  },
  {
   "cell_type": "code",
   "execution_count": 25,
   "id": "74f0b9ed-4e0d-487b-9691-aeb3ae3d1992",
   "metadata": {
    "tags": []
   },
   "outputs": [
    {
     "name": "stdout",
     "output_type": "stream",
     "text": [
      "The sum of even numbers within the range  1  and  200 , excluding multiples of 5, is: 9894\n"
     ]
    }
   ],
   "source": [
    "def sum_even_num(start, stop):\n",
    "    return sum(x for x in range(start, stop) if x % 2 == 0!=x//5)\n",
    "\n",
    "print('The sum of even numbers within the range  1  and  200 , excluding multiples of 5, is:',sum_even_num(1, 200))\n"
   ]
  },
  {
   "cell_type": "code",
   "execution_count": null,
   "id": "53b7c4d5-bdf5-4c62-ab8c-1de2d8ffe17f",
   "metadata": {},
   "outputs": [],
   "source": [
    "#num 1 = x % 2 == 0\n",
    "#num 2 =!=//5\n",
    "#def sum_even_numbers(num1, num2):\n",
    "   # sum = num1 + num2\n",
    "   # return sum\n",
    "#print(sum_even_numbers(1, 200))\n",
    "#print('The sum of even numbers within the range  1  and  200 , excluding multiples of 5, is: ()')"
   ]
  },
  {
   "cell_type": "markdown",
   "id": "86e6045e-81a1-4aa7-b28c-b435bb67f631",
   "metadata": {},
   "source": [
    "Q2. Calculate and plot the average temperature variation for 3 cities as given below (use a loop for average calculation). For the plot, include titles and labels, and set the tick label size to 10 for both the x-axis and the y-axis"
   ]
  },
  {
   "cell_type": "code",
   "execution_count": 49,
   "id": "0c43299d-1581-402d-88e4-13b523b5c346",
   "metadata": {
    "tags": []
   },
   "outputs": [
    {
     "name": "stdout",
     "output_type": "stream",
     "text": [
      "[[25, 28, 23, 26], [22, 24, 21, 19], [27, 26, 28, 30]]\n"
     ]
    }
   ],
   "source": [
    "cities = ['City A', 'City B', 'City C']\n",
    "temperatures = [\n",
    "    [25, 28, 23, 26],  # Temperature values for City A (in °C)\n",
    "    [22, 24, 21, 19],  # Temperature values for City B (in °C)\n",
    "    [27, 26, 28, 30],  # Temperature values for City C (in °C)\n",
    "]\n",
    "print(temperatures)"
   ]
  },
  {
   "cell_type": "code",
   "execution_count": 57,
   "id": "d52504a3-e0b7-4dee-b393-4b8590f05f28",
   "metadata": {
    "tags": []
   },
   "outputs": [
    {
     "name": "stdout",
     "output_type": "stream",
     "text": [
      "   City A  City B  City C\n",
      "0      25      22      27\n",
      "1      28      24      26\n",
      "2      23      21      28\n",
      "3      26      19      30\n"
     ]
    }
   ],
   "source": [
    "series1 = pd.Series([25, 28, 23, 26])\n",
    "series2 = pd.Series([22, 24, 21, 19])\n",
    "series3 = pd.Series([27, 26, 28, 30])\n",
    "\n",
    "df_new1 = pd.DataFrame({'City A': series1, 'City B': series2, 'City C': series3})\n",
    "\n",
    "print(df_new1)"
   ]
  },
  {
   "cell_type": "code",
   "execution_count": 54,
   "id": "df7bb53a-15ba-4c51-a85f-8262785e18f8",
   "metadata": {
    "tags": []
   },
   "outputs": [],
   "source": [
    "df_new1.iloc[0,:].loc[:,['State Code','Country Code']]"
   ]
  },
  {
   "cell_type": "code",
   "execution_count": 70,
   "id": "92483e95-7ea6-48d2-8c27-25786f367403",
   "metadata": {
    "tags": []
   },
   "outputs": [
    {
     "name": "stdout",
     "output_type": "stream",
     "text": [
      "0    25\n",
      "1    28\n",
      "2    23\n",
      "3    26\n",
      "Name: City A, dtype: int64\n"
     ]
    }
   ],
   "source": [
    "A = df_new1.iloc[:,0]\n",
    "print(A)"
   ]
  },
  {
   "cell_type": "code",
   "execution_count": 71,
   "id": "0e55ec5f-d155-45fe-a946-c6c2c806a82f",
   "metadata": {
    "tags": []
   },
   "outputs": [
    {
     "name": "stdout",
     "output_type": "stream",
     "text": [
      "0    22\n",
      "1    24\n",
      "2    21\n",
      "3    19\n",
      "Name: City B, dtype: int64\n"
     ]
    }
   ],
   "source": [
    "B = df_new1.iloc[:,1]\n",
    "print(B)"
   ]
  },
  {
   "cell_type": "code",
   "execution_count": 72,
   "id": "bcce68d4-66c0-4dfc-901f-99ae8946996a",
   "metadata": {
    "tags": []
   },
   "outputs": [
    {
     "name": "stdout",
     "output_type": "stream",
     "text": [
      "0    27\n",
      "1    26\n",
      "2    28\n",
      "3    30\n",
      "Name: City C, dtype: int64\n"
     ]
    }
   ],
   "source": [
    "C = df_new1.iloc[:,2]\n",
    "print(C)"
   ]
  },
  {
   "cell_type": "code",
   "execution_count": 73,
   "id": "a08922b2-df96-403c-bcee-1a2db05295ba",
   "metadata": {
    "tags": []
   },
   "outputs": [
    {
     "name": "stdout",
     "output_type": "stream",
     "text": [
      "25.5\n"
     ]
    }
   ],
   "source": [
    "meanA = np.mean(A)\n",
    "print(meanA)"
   ]
  },
  {
   "cell_type": "code",
   "execution_count": 74,
   "id": "b9fe1973-75ed-4c6c-ad4b-6c5a44a26c3a",
   "metadata": {
    "tags": []
   },
   "outputs": [
    {
     "name": "stdout",
     "output_type": "stream",
     "text": [
      "25.5\n"
     ]
    }
   ],
   "source": [
    "meanB = np.mean(B)\n",
    "print(meanA)"
   ]
  },
  {
   "cell_type": "code",
   "execution_count": 75,
   "id": "4837d5a5-9fe7-428d-a66a-2e2183a16805",
   "metadata": {
    "tags": []
   },
   "outputs": [
    {
     "name": "stdout",
     "output_type": "stream",
     "text": [
      "25.5\n"
     ]
    }
   ],
   "source": [
    "meanC = np.mean(C)\n",
    "print(meanA)"
   ]
  },
  {
   "cell_type": "code",
   "execution_count": 78,
   "id": "ff09521a-55ae-4760-9d9c-d0cd046f1dfa",
   "metadata": {
    "tags": []
   },
   "outputs": [
    {
     "data": {
      "image/png": "[encoded data removed]",
      "text/plain": [
       "<Figure size 640x480 with 1 Axes>"
      ]
     },
     "metadata": {},
     "output_type": "display_data"
    }
   ],
   "source": [
    "plt.plot(meanA,meanB,meanC);\n",
    "plt.xlabel('average temperature', fontsize=16);\n",
    "plt.ylabel('values', fontsize=16);\n",
    "plt.title('average temperature variation for 3 cities', fontsize=16);\n",
    "plt.tick_params(axis='both', labelsize=10);"
   ]
  },
  {
   "cell_type": "code",
   "execution_count": null,
   "id": "b0bf788b-5b98-4f60-a3f1-e0d99bf41da5",
   "metadata": {},
   "outputs": [],
   "source": []
  },
  {
   "cell_type": "markdown",
   "id": "cf7499eb-c2c7-4b3d-8ee2-fdd80ff19fe9",
   "metadata": {},
   "source": [
    "Q3. Create a dataframe from a dictionary of series, including different types of data. Then, calculate the average value of a numeric column in the dataframe and print it along with the shape of the dataframe"
   ]
  },
  {
   "cell_type": "code",
   "execution_count": 13,
   "id": "4005e1cc-693d-43f2-8afa-7452277964c0",
   "metadata": {
    "tags": []
   },
   "outputs": [
    {
     "name": "stdout",
     "output_type": "stream",
     "text": [
      "   Val1  Val2   Val3\n",
      "0     1     4  False\n",
      "1     2     5   True\n",
      "2     3     6  False\n"
     ]
    }
   ],
   "source": [
    "series1 = pd.Series([1, 2, 3])\n",
    "series2 = pd.Series([4, 5, 6])\n",
    "series3 = pd.Series([False, True, False])\n",
    "\n",
    "df_new = pd.DataFrame({'Val1': series1, 'Val2': series2, 'Val3': series3})\n",
    "\n",
    "print(df_new)\n"
   ]
  },
  {
   "cell_type": "code",
   "execution_count": 17,
   "id": "8604f196-950a-4510-bd60-6e4251ff96aa",
   "metadata": {
    "tags": []
   },
   "outputs": [
    {
     "data": {
      "text/html": [
       "<div>\n",
       "<style scoped>\n",
       "    .dataframe tbody tr th:only-of-type {\n",
       "        vertical-align: middle;\n",
       "    }\n",
       "\n",
       "    .dataframe tbody tr th {\n",
       "        vertical-align: top;\n",
       "    }\n",
       "\n",
       "    .dataframe thead th {\n",
       "        text-align: right;\n",
       "    }\n",
       "</style>\n",
       "<table border=\"1\" class=\"dataframe\">\n",
       "  <thead>\n",
       "    <tr style=\"text-align: right;\">\n",
       "      <th></th>\n",
       "      <th>Val2</th>\n",
       "    </tr>\n",
       "  </thead>\n",
       "  <tbody>\n",
       "    <tr>\n",
       "      <th>0</th>\n",
       "      <td>4</td>\n",
       "    </tr>\n",
       "    <tr>\n",
       "      <th>1</th>\n",
       "      <td>5</td>\n",
       "    </tr>\n",
       "    <tr>\n",
       "      <th>2</th>\n",
       "      <td>6</td>\n",
       "    </tr>\n",
       "  </tbody>\n",
       "</table>\n",
       "</div>"
      ],
      "text/plain": [
       "   Val2\n",
       "0     4\n",
       "1     5\n",
       "2     6"
      ]
     },
     "execution_count": 17,
     "metadata": {},
     "output_type": "execute_result"
    }
   ],
   "source": [
    "a = df_new.iloc[:, [1]]\n",
    "a"
   ]
  },
  {
   "cell_type": "code",
   "execution_count": 22,
   "id": "d372ceb6-4a9e-4367-8f14-c07908de0e5d",
   "metadata": {
    "tags": []
   },
   "outputs": [
    {
     "data": {
      "text/plain": [
       "5.0"
      ]
     },
     "execution_count": 22,
     "metadata": {},
     "output_type": "execute_result"
    }
   ],
   "source": [
    "mean = np.mean(a)\n",
    "mean"
   ]
  },
  {
   "cell_type": "code",
   "execution_count": 23,
   "id": "aa3e7a44-920f-45b2-b7e9-2a7ba5fe90f5",
   "metadata": {
    "tags": []
   },
   "outputs": [
    {
     "name": "stdout",
     "output_type": "stream",
     "text": [
      "5.0\n"
     ]
    }
   ],
   "source": [
    "print(mean)"
   ]
  },
  {
   "cell_type": "code",
   "execution_count": 24,
   "id": "cdd745b6-1a43-4a9c-9152-9f954d640318",
   "metadata": {
    "tags": []
   },
   "outputs": [
    {
     "name": "stdout",
     "output_type": "stream",
     "text": [
      "(3, 3)\n"
     ]
    }
   ],
   "source": [
    "print(df_new.shape)"
   ]
  },
  {
   "cell_type": "raw",
   "id": "e98111f2-b977-48c0-a9fa-cbb28701e999",
   "metadata": {},
   "source": [
    "Q4. Load the dataset from the 'climate.csv' file into a DataFrame called 'climate' and create a line plot for temperature variation comparison for 'United States', 'Canada', 'United Kingdom'. Add appropriate labels to the x-axis and y-axis, and provide a title for the plot."
   ]
  },
  {
   "cell_type": "code",
   "execution_count": 44,
   "id": "a51fe3a6-20c1-48f0-9ffb-cbc136cdb191",
   "metadata": {
    "tags": []
   },
   "outputs": [
    {
     "data": {
      "text/html": [
       "<div>\n",
       "<style scoped>\n",
       "    .dataframe tbody tr th:only-of-type {\n",
       "        vertical-align: middle;\n",
       "    }\n",
       "\n",
       "    .dataframe tbody tr th {\n",
       "        vertical-align: top;\n",
       "    }\n",
       "\n",
       "    .dataframe thead th {\n",
       "        text-align: right;\n",
       "    }\n",
       "</style>\n",
       "<table border=\"1\" class=\"dataframe\">\n",
       "  <thead>\n",
       "    <tr style=\"text-align: right;\">\n",
       "      <th></th>\n",
       "      <th>Country</th>\n",
       "      <th>Date</th>\n",
       "      <th>Temperature (Celsius)</th>\n",
       "      <th>Humidity (%)</th>\n",
       "      <th>Wind Speed (km/h)</th>\n",
       "    </tr>\n",
       "  </thead>\n",
       "  <tbody>\n",
       "    <tr>\n",
       "      <th>0</th>\n",
       "      <td>United States</td>\n",
       "      <td>2023-05-01</td>\n",
       "      <td>22.5</td>\n",
       "      <td>60</td>\n",
       "      <td>10</td>\n",
       "    </tr>\n",
       "    <tr>\n",
       "      <th>1</th>\n",
       "      <td>United States</td>\n",
       "      <td>2023-05-02</td>\n",
       "      <td>20.7</td>\n",
       "      <td>55</td>\n",
       "      <td>12</td>\n",
       "    </tr>\n",
       "    <tr>\n",
       "      <th>2</th>\n",
       "      <td>United States</td>\n",
       "      <td>2023-05-03</td>\n",
       "      <td>25.2</td>\n",
       "      <td>68</td>\n",
       "      <td>8</td>\n",
       "    </tr>\n",
       "    <tr>\n",
       "      <th>3</th>\n",
       "      <td>Canada</td>\n",
       "      <td>2023-05-01</td>\n",
       "      <td>18.9</td>\n",
       "      <td>50</td>\n",
       "      <td>15</td>\n",
       "    </tr>\n",
       "    <tr>\n",
       "      <th>4</th>\n",
       "      <td>Canada</td>\n",
       "      <td>2023-05-02</td>\n",
       "      <td>17.4</td>\n",
       "      <td>48</td>\n",
       "      <td>13</td>\n",
       "    </tr>\n",
       "    <tr>\n",
       "      <th>5</th>\n",
       "      <td>Canada</td>\n",
       "      <td>2023-05-03</td>\n",
       "      <td>20.1</td>\n",
       "      <td>52</td>\n",
       "      <td>10</td>\n",
       "    </tr>\n",
       "    <tr>\n",
       "      <th>6</th>\n",
       "      <td>United Kingdom</td>\n",
       "      <td>2023-05-01</td>\n",
       "      <td>15.2</td>\n",
       "      <td>70</td>\n",
       "      <td>8</td>\n",
       "    </tr>\n",
       "    <tr>\n",
       "      <th>7</th>\n",
       "      <td>United Kingdom</td>\n",
       "      <td>2023-05-02</td>\n",
       "      <td>14.8</td>\n",
       "      <td>72</td>\n",
       "      <td>9</td>\n",
       "    </tr>\n",
       "    <tr>\n",
       "      <th>8</th>\n",
       "      <td>United Kingdom</td>\n",
       "      <td>2023-05-03</td>\n",
       "      <td>16.5</td>\n",
       "      <td>68</td>\n",
       "      <td>7</td>\n",
       "    </tr>\n",
       "    <tr>\n",
       "      <th>9</th>\n",
       "      <td>Germany</td>\n",
       "      <td>2023-05-01</td>\n",
       "      <td>20.7</td>\n",
       "      <td>60</td>\n",
       "      <td>11</td>\n",
       "    </tr>\n",
       "    <tr>\n",
       "      <th>10</th>\n",
       "      <td>Germany</td>\n",
       "      <td>2023-05-02</td>\n",
       "      <td>22.1</td>\n",
       "      <td>62</td>\n",
       "      <td>10</td>\n",
       "    </tr>\n",
       "    <tr>\n",
       "      <th>11</th>\n",
       "      <td>Germany</td>\n",
       "      <td>2023-05-03</td>\n",
       "      <td>19.8</td>\n",
       "      <td>58</td>\n",
       "      <td>12</td>\n",
       "    </tr>\n",
       "  </tbody>\n",
       "</table>\n",
       "</div>"
      ],
      "text/plain": [
       "           Country        Date  Temperature (Celsius)  Humidity (%)  \\\n",
       "0    United States  2023-05-01                   22.5            60   \n",
       "1    United States  2023-05-02                   20.7            55   \n",
       "2    United States  2023-05-03                   25.2            68   \n",
       "3           Canada  2023-05-01                   18.9            50   \n",
       "4           Canada  2023-05-02                   17.4            48   \n",
       "5           Canada  2023-05-03                   20.1            52   \n",
       "6   United Kingdom  2023-05-01                   15.2            70   \n",
       "7   United Kingdom  2023-05-02                   14.8            72   \n",
       "8   United Kingdom  2023-05-03                   16.5            68   \n",
       "9          Germany  2023-05-01                   20.7            60   \n",
       "10         Germany  2023-05-02                   22.1            62   \n",
       "11         Germany  2023-05-03                   19.8            58   \n",
       "\n",
       "    Wind Speed (km/h)  \n",
       "0                  10  \n",
       "1                  12  \n",
       "2                   8  \n",
       "3                  15  \n",
       "4                  13  \n",
       "5                  10  \n",
       "6                   8  \n",
       "7                   9  \n",
       "8                   7  \n",
       "9                  11  \n",
       "10                 10  \n",
       "11                 12  "
      ]
     },
     "execution_count": 44,
     "metadata": {},
     "output_type": "execute_result"
    }
   ],
   "source": [
    "climate = pd.read_csv('climate.csv')\n",
    "climate"
   ]
  },
  {
   "cell_type": "code",
   "execution_count": 45,
   "id": "83c6f43e-0bbc-4f84-bc83-3b6de2431eeb",
   "metadata": {
    "tags": []
   },
   "outputs": [],
   "source": [
    "climate = climate.set_index('Country')"
   ]
  },
  {
   "cell_type": "code",
   "execution_count": 47,
   "id": "68e1c371-e37b-4120-b20e-c44ad5a3e5f4",
   "metadata": {
    "tags": []
   },
   "outputs": [
    {
     "ename": "NameError",
     "evalue": "name 'countries' is not defined",
     "output_type": "error",
     "traceback": [
      "\u001b[0;31m---------------------------------------------------------------------------\u001b[0m",
      "\u001b[0;31mNameError\u001b[0m                                 Traceback (most recent call last)",
      "Cell \u001b[0;32mIn[47], line 7\u001b[0m\n\u001b[1;32m      5\u001b[0m plt\u001b[38;5;241m.\u001b[39mxlabel(\u001b[38;5;124m'\u001b[39m\u001b[38;5;124mCountries\u001b[39m\u001b[38;5;124m'\u001b[39m, fontsize\u001b[38;5;241m=\u001b[39m\u001b[38;5;241m16\u001b[39m);\n\u001b[1;32m      6\u001b[0m plt\u001b[38;5;241m.\u001b[39mtick_params(axis\u001b[38;5;241m=\u001b[39m\u001b[38;5;124m'\u001b[39m\u001b[38;5;124mboth\u001b[39m\u001b[38;5;124m'\u001b[39m, labelsize\u001b[38;5;241m=\u001b[39m\u001b[38;5;241m12\u001b[39m)\n\u001b[0;32m----> 7\u001b[0m plt\u001b[38;5;241m.\u001b[39mxticks(\u001b[43mcountries\u001b[49m, rotation\u001b[38;5;241m=\u001b[39m\u001b[38;5;241m45\u001b[39m, ha\u001b[38;5;241m=\u001b[39m\u001b[38;5;124m'\u001b[39m\u001b[38;5;124mright\u001b[39m\u001b[38;5;124m'\u001b[39m);\n",
      "\u001b[0;31mNameError\u001b[0m: name 'countries' is not defined"
     ]
    },
    {
     "data": {
      "image/png": "[encoded data removed]",
      "text/plain": [
       "<Figure size 640x480 with 1 Axes>"
      ]
     },
     "metadata": {},
     "output_type": "display_data"
    }
   ],
   "source": [
    "climate['Temperature (Celsius)'].plot();\n",
    "plt.legend();\n",
    "plt.title('temperature variation comparison for United States, Canada, United Kingdom', fontsize=16);\n",
    "plt.ylabel('temperature (Celsius)', fontsize=16);\n",
    "plt.xlabel('Countries', fontsize=16);\n",
    "plt.tick_params(axis='both', labelsize=12)\n",
    "plt.xticks(countries, rotation=45, ha='right');"
   ]
  },
  {
   "cell_type": "markdown",
   "id": "fe229c9a-0ac9-4ddd-9382-61a1a7cfd0fc",
   "metadata": {},
   "source": [
    "Q5. Create a 2-dimensional array using np.arange() and reshape()"
   ]
  },
  {
   "cell_type": "code",
   "execution_count": 3,
   "id": "439f2248-1c8e-4932-a128-6258b8a423ef",
   "metadata": {
    "tags": []
   },
   "outputs": [
    {
     "name": "stdout",
     "output_type": "stream",
     "text": [
      "[[0 1 2 3 4]\n",
      " [5 6 7 8 9]]\n"
     ]
    }
   ],
   "source": [
    "b = np.arange(10).reshape(2, 5) \n",
    "print(b)"
   ]
  },
  {
   "cell_type": "markdown",
   "id": "c74c2296-38eb-4258-ae20-f2b136d66704",
   "metadata": {},
   "source": [
    "Q6. 4. print out the numbers from 50 to 0 in steps of 5, using while loop"
   ]
  },
  {
   "cell_type": "code",
   "execution_count": 4,
   "id": "22738693-cca7-4df6-9d3b-1b6256b5f8ad",
   "metadata": {
    "tags": []
   },
   "outputs": [
    {
     "name": "stdout",
     "output_type": "stream",
     "text": [
      "50\n",
      "45\n",
      "40\n",
      "35\n",
      "30\n",
      "25\n",
      "20\n",
      "15\n",
      "10\n",
      "5\n",
      "0\n"
     ]
    }
   ],
   "source": [
    "i = 50\n",
    "while i >= 0:\n",
    "    print(i)\n",
    "    i -= 5"
   ]
  },
  {
   "cell_type": "code",
   "execution_count": null,
   "id": "fffbe9b5-397f-41ce-8112-7151979d3889",
   "metadata": {},
   "outputs": [],
   "source": []
  }
 ],
 "metadata": {
  "kernelspec": {
   "display_name": "Python 3 (ipykernel)",
   "language": "python",
   "name": "python3"
  },
  "language_info": {
   "codemirror_mode": {
    "name": "ipython",
    "version": 3
   },
   "file_extension": ".py",
   "mimetype": "text/x-python",
   "name": "python",
   "nbconvert_exporter": "python",
   "pygments_lexer": "ipython3",
   "version": "3.10.11"
  }
 },
 "nbformat": 4,
 "nbformat_minor": 5
}
